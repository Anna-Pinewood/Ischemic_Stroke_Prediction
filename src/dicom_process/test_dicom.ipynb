{
 "cells": [
  {
   "cell_type": "code",
   "execution_count": 1,
   "metadata": {
    "ExecuteTime": {
     "start_time": "2023-05-26T21:33:36.858754Z",
     "end_time": "2023-05-26T21:33:36.863845Z"
    }
   },
   "outputs": [],
   "source": [
    "import sys\n",
    "sys.path.append('/home/high_fly_bird/workspace/Ischemic_Stroke_Prediction')"
   ]
  },
  {
   "cell_type": "code",
   "execution_count": 2,
   "metadata": {
    "ExecuteTime": {
     "start_time": "2023-05-26T21:33:36.866743Z",
     "end_time": "2023-05-26T21:33:36.959704Z"
    }
   },
   "outputs": [],
   "source": [
    "%load_ext autoreload\n",
    "%autoreload 2"
   ]
  },
  {
   "cell_type": "code",
   "execution_count": 3,
   "metadata": {
    "ExecuteTime": {
     "start_time": "2023-05-26T21:33:36.960226Z",
     "end_time": "2023-05-26T21:33:39.238962Z"
    }
   },
   "outputs": [],
   "source": [
    "from src.dicom_process.dicom_datamodule import DicomDataModule"
   ]
  },
  {
   "cell_type": "code",
   "execution_count": null,
   "metadata": {
    "ExecuteTime": {
     "start_time": "2023-05-26T22:25:53.080532Z",
     "end_time": "2023-05-26T22:27:17.492944Z"
    },
    "pycharm": {
     "is_executing": true
    }
   },
   "outputs": [
    {
     "name": "stderr",
     "output_type": "stream",
     "text": [
      "100%|██████████| 135/135 [00:02<00:00, 51.35it/s]\n"
     ]
    }
   ],
   "source": [
    "path_patothology = \"/Users/olipina001/Downloads/DicomSmall\"\n",
    "dm = DicomDataModule(data_dir=path_patothology)\n",
    "\n",
    "dm.setup('fit')\n",
    "loader = dm.train_dataloader()"
   ]
  },
  {
   "cell_type": "code",
   "execution_count": 5,
   "metadata": {
    "ExecuteTime": {
     "start_time": "2023-05-26T21:33:39.290580Z",
     "end_time": "2023-05-26T21:33:39.342880Z"
    }
   },
   "outputs": [],
   "source": [
    "set_ = dm.dataset"
   ]
  },
  {
   "cell_type": "code",
   "execution_count": 8,
   "metadata": {
    "ExecuteTime": {
     "start_time": "2023-05-26T21:34:42.318098Z",
     "end_time": "2023-05-26T21:37:06.920712Z"
    }
   },
   "outputs": [],
   "source": [
    "a = set_.__getitem__(1)"
   ]
  },
  {
   "cell_type": "code",
   "execution_count": 9,
   "metadata": {
    "ExecuteTime": {
     "start_time": "2023-05-26T21:37:18.992369Z",
     "end_time": "2023-05-26T21:37:19.069211Z"
    }
   },
   "outputs": [
    {
     "data": {
      "text/plain": "(tensor([[[[0., 0., 0.,  ..., 0., 0., 0.],\n           [0., 0., 0.,  ..., 0., 0., 0.],\n           [0., 0., 0.,  ..., 0., 0., 0.],\n           ...,\n           [0., 0., 0.,  ..., 0., 0., 0.],\n           [0., 0., 0.,  ..., 0., 0., 0.],\n           [0., 0., 0.,  ..., 0., 0., 0.]],\n \n          [[0., 0., 0.,  ..., 0., 0., 0.],\n           [0., 0., 0.,  ..., 0., 0., 0.],\n           [0., 0., 0.,  ..., 0., 0., 0.],\n           ...,\n           [0., 0., 0.,  ..., 0., 0., 0.],\n           [0., 0., 0.,  ..., 0., 0., 0.],\n           [0., 0., 0.,  ..., 0., 0., 0.]],\n \n          [[0., 0., 0.,  ..., 0., 0., 0.],\n           [0., 0., 0.,  ..., 0., 0., 0.],\n           [0., 0., 0.,  ..., 0., 0., 0.],\n           ...,\n           [0., 0., 0.,  ..., 0., 0., 0.],\n           [0., 0., 0.,  ..., 0., 0., 0.],\n           [0., 0., 0.,  ..., 0., 0., 0.]],\n \n          ...,\n \n          [[0., 0., 0.,  ..., 0., 0., 0.],\n           [0., 0., 0.,  ..., 0., 0., 0.],\n           [0., 0., 0.,  ..., 0., 0., 0.],\n           ...,\n           [0., 0., 0.,  ..., 0., 0., 0.],\n           [0., 0., 0.,  ..., 0., 0., 0.],\n           [0., 0., 0.,  ..., 0., 0., 0.]],\n \n          [[0., 0., 0.,  ..., 0., 0., 0.],\n           [0., 0., 0.,  ..., 0., 0., 0.],\n           [0., 0., 0.,  ..., 0., 0., 0.],\n           ...,\n           [0., 0., 0.,  ..., 0., 0., 0.],\n           [0., 0., 0.,  ..., 0., 0., 0.],\n           [0., 0., 0.,  ..., 0., 0., 0.]],\n \n          [[0., 0., 0.,  ..., 0., 0., 0.],\n           [0., 0., 0.,  ..., 0., 0., 0.],\n           [0., 0., 0.,  ..., 0., 0., 0.],\n           ...,\n           [0., 0., 0.,  ..., 0., 0., 0.],\n           [0., 0., 0.,  ..., 0., 0., 0.],\n           [0., 0., 0.,  ..., 0., 0., 0.]]]]),\n 1)"
     },
     "execution_count": 9,
     "metadata": {},
     "output_type": "execute_result"
    }
   ],
   "source": [
    "a"
   ]
  },
  {
   "cell_type": "markdown",
   "source": [
    "# NN"
   ],
   "metadata": {
    "collapsed": false
   }
  },
  {
   "cell_type": "code",
   "execution_count": 10,
   "outputs": [
    {
     "data": {
      "text/plain": "DeepSymNet(\n  (siamese_part): SiameseAndDifferenceBlock(\n    (inception_chain): Sequential(\n      (0): InceptionBlock(\n        (branch_1filter): ConvBlock(\n          (conv): Conv2d(1, 64, kernel_size=(1, 1), stride=(1, 1))\n          (bn): BatchNorm2d(64, eps=1e-05, momentum=0.1, affine=True, track_running_stats=True)\n        )\n        (branch_3filter): Sequential(\n          (0): ConvBlock(\n            (conv): Conv2d(1, 64, kernel_size=(1, 1), stride=(1, 1))\n            (bn): BatchNorm2d(64, eps=1e-05, momentum=0.1, affine=True, track_running_stats=True)\n          )\n          (1): ConvBlock(\n            (conv): Conv2d(64, 64, kernel_size=(3, 3), stride=(1, 1), padding=(1, 1))\n            (bn): BatchNorm2d(64, eps=1e-05, momentum=0.1, affine=True, track_running_stats=True)\n          )\n        )\n        (branch_5filter): Sequential(\n          (0): ConvBlock(\n            (conv): Conv2d(1, 64, kernel_size=(1, 1), stride=(1, 1))\n            (bn): BatchNorm2d(64, eps=1e-05, momentum=0.1, affine=True, track_running_stats=True)\n          )\n          (1): ConvBlock(\n            (conv): Conv2d(64, 64, kernel_size=(5, 5), stride=(1, 1), padding=(2, 2))\n            (bn): BatchNorm2d(64, eps=1e-05, momentum=0.1, affine=True, track_running_stats=True)\n          )\n        )\n        (branch_maxpool): Sequential(\n          (0): MaxPool2d(kernel_size=3, stride=1, padding=1, dilation=1, ceil_mode=False)\n          (1): ConvBlock(\n            (conv): Conv2d(1, 64, kernel_size=(1, 1), stride=(1, 1))\n            (bn): BatchNorm2d(64, eps=1e-05, momentum=0.1, affine=True, track_running_stats=True)\n          )\n        )\n      )\n      (1): InceptionBlock(\n        (branch_1filter): ConvBlock(\n          (conv): Conv2d(256, 64, kernel_size=(1, 1), stride=(1, 1))\n          (bn): BatchNorm2d(64, eps=1e-05, momentum=0.1, affine=True, track_running_stats=True)\n        )\n        (branch_3filter): Sequential(\n          (0): ConvBlock(\n            (conv): Conv2d(256, 64, kernel_size=(1, 1), stride=(1, 1))\n            (bn): BatchNorm2d(64, eps=1e-05, momentum=0.1, affine=True, track_running_stats=True)\n          )\n          (1): ConvBlock(\n            (conv): Conv2d(64, 64, kernel_size=(3, 3), stride=(1, 1), padding=(1, 1))\n            (bn): BatchNorm2d(64, eps=1e-05, momentum=0.1, affine=True, track_running_stats=True)\n          )\n        )\n        (branch_5filter): Sequential(\n          (0): ConvBlock(\n            (conv): Conv2d(256, 64, kernel_size=(1, 1), stride=(1, 1))\n            (bn): BatchNorm2d(64, eps=1e-05, momentum=0.1, affine=True, track_running_stats=True)\n          )\n          (1): ConvBlock(\n            (conv): Conv2d(64, 64, kernel_size=(5, 5), stride=(1, 1), padding=(2, 2))\n            (bn): BatchNorm2d(64, eps=1e-05, momentum=0.1, affine=True, track_running_stats=True)\n          )\n        )\n        (branch_maxpool): Sequential(\n          (0): MaxPool2d(kernel_size=3, stride=1, padding=1, dilation=1, ceil_mode=False)\n          (1): ConvBlock(\n            (conv): Conv2d(256, 64, kernel_size=(1, 1), stride=(1, 1))\n            (bn): BatchNorm2d(64, eps=1e-05, momentum=0.1, affine=True, track_running_stats=True)\n          )\n        )\n      )\n      (2): InceptionBlock(\n        (branch_1filter): ConvBlock(\n          (conv): Conv2d(256, 64, kernel_size=(1, 1), stride=(1, 1))\n          (bn): BatchNorm2d(64, eps=1e-05, momentum=0.1, affine=True, track_running_stats=True)\n        )\n        (branch_3filter): Sequential(\n          (0): ConvBlock(\n            (conv): Conv2d(256, 64, kernel_size=(1, 1), stride=(1, 1))\n            (bn): BatchNorm2d(64, eps=1e-05, momentum=0.1, affine=True, track_running_stats=True)\n          )\n          (1): ConvBlock(\n            (conv): Conv2d(64, 64, kernel_size=(3, 3), stride=(1, 1), padding=(1, 1))\n            (bn): BatchNorm2d(64, eps=1e-05, momentum=0.1, affine=True, track_running_stats=True)\n          )\n        )\n        (branch_5filter): Sequential(\n          (0): ConvBlock(\n            (conv): Conv2d(256, 64, kernel_size=(1, 1), stride=(1, 1))\n            (bn): BatchNorm2d(64, eps=1e-05, momentum=0.1, affine=True, track_running_stats=True)\n          )\n          (1): ConvBlock(\n            (conv): Conv2d(64, 64, kernel_size=(5, 5), stride=(1, 1), padding=(2, 2))\n            (bn): BatchNorm2d(64, eps=1e-05, momentum=0.1, affine=True, track_running_stats=True)\n          )\n        )\n        (branch_maxpool): Sequential(\n          (0): MaxPool2d(kernel_size=3, stride=1, padding=1, dilation=1, ceil_mode=False)\n          (1): ConvBlock(\n            (conv): Conv2d(256, 64, kernel_size=(1, 1), stride=(1, 1))\n            (bn): BatchNorm2d(64, eps=1e-05, momentum=0.1, affine=True, track_running_stats=True)\n          )\n        )\n      )\n      (3): InceptionBlock(\n        (branch_1filter): ConvBlock(\n          (conv): Conv2d(256, 64, kernel_size=(1, 1), stride=(1, 1))\n          (bn): BatchNorm2d(64, eps=1e-05, momentum=0.1, affine=True, track_running_stats=True)\n        )\n        (branch_3filter): Sequential(\n          (0): ConvBlock(\n            (conv): Conv2d(256, 64, kernel_size=(1, 1), stride=(1, 1))\n            (bn): BatchNorm2d(64, eps=1e-05, momentum=0.1, affine=True, track_running_stats=True)\n          )\n          (1): ConvBlock(\n            (conv): Conv2d(64, 64, kernel_size=(3, 3), stride=(1, 1), padding=(1, 1))\n            (bn): BatchNorm2d(64, eps=1e-05, momentum=0.1, affine=True, track_running_stats=True)\n          )\n        )\n        (branch_5filter): Sequential(\n          (0): ConvBlock(\n            (conv): Conv2d(256, 64, kernel_size=(1, 1), stride=(1, 1))\n            (bn): BatchNorm2d(64, eps=1e-05, momentum=0.1, affine=True, track_running_stats=True)\n          )\n          (1): ConvBlock(\n            (conv): Conv2d(64, 64, kernel_size=(5, 5), stride=(1, 1), padding=(2, 2))\n            (bn): BatchNorm2d(64, eps=1e-05, momentum=0.1, affine=True, track_running_stats=True)\n          )\n        )\n        (branch_maxpool): Sequential(\n          (0): MaxPool2d(kernel_size=3, stride=1, padding=1, dilation=1, ceil_mode=False)\n          (1): ConvBlock(\n            (conv): Conv2d(256, 64, kernel_size=(1, 1), stride=(1, 1))\n            (bn): BatchNorm2d(64, eps=1e-05, momentum=0.1, affine=True, track_running_stats=True)\n          )\n        )\n      )\n    )\n  )\n  (shared_tunnel): Sequential(\n    (0): InceptionBlock(\n      (branch_1filter): ConvBlock(\n        (conv): Conv2d(256, 64, kernel_size=(1, 1), stride=(1, 1))\n        (bn): BatchNorm2d(64, eps=1e-05, momentum=0.1, affine=True, track_running_stats=True)\n      )\n      (branch_3filter): Sequential(\n        (0): ConvBlock(\n          (conv): Conv2d(256, 64, kernel_size=(1, 1), stride=(1, 1))\n          (bn): BatchNorm2d(64, eps=1e-05, momentum=0.1, affine=True, track_running_stats=True)\n        )\n        (1): ConvBlock(\n          (conv): Conv2d(64, 64, kernel_size=(3, 3), stride=(1, 1), padding=(1, 1))\n          (bn): BatchNorm2d(64, eps=1e-05, momentum=0.1, affine=True, track_running_stats=True)\n        )\n      )\n      (branch_5filter): Sequential(\n        (0): ConvBlock(\n          (conv): Conv2d(256, 64, kernel_size=(1, 1), stride=(1, 1))\n          (bn): BatchNorm2d(64, eps=1e-05, momentum=0.1, affine=True, track_running_stats=True)\n        )\n        (1): ConvBlock(\n          (conv): Conv2d(64, 64, kernel_size=(5, 5), stride=(1, 1), padding=(2, 2))\n          (bn): BatchNorm2d(64, eps=1e-05, momentum=0.1, affine=True, track_running_stats=True)\n        )\n      )\n      (branch_maxpool): Sequential(\n        (0): MaxPool2d(kernel_size=3, stride=1, padding=1, dilation=1, ceil_mode=False)\n        (1): ConvBlock(\n          (conv): Conv2d(256, 64, kernel_size=(1, 1), stride=(1, 1))\n          (bn): BatchNorm2d(64, eps=1e-05, momentum=0.1, affine=True, track_running_stats=True)\n        )\n      )\n    )\n    (1): InceptionBlock(\n      (branch_1filter): ConvBlock(\n        (conv): Conv2d(256, 64, kernel_size=(1, 1), stride=(1, 1))\n        (bn): BatchNorm2d(64, eps=1e-05, momentum=0.1, affine=True, track_running_stats=True)\n      )\n      (branch_3filter): Sequential(\n        (0): ConvBlock(\n          (conv): Conv2d(256, 64, kernel_size=(1, 1), stride=(1, 1))\n          (bn): BatchNorm2d(64, eps=1e-05, momentum=0.1, affine=True, track_running_stats=True)\n        )\n        (1): ConvBlock(\n          (conv): Conv2d(64, 64, kernel_size=(3, 3), stride=(1, 1), padding=(1, 1))\n          (bn): BatchNorm2d(64, eps=1e-05, momentum=0.1, affine=True, track_running_stats=True)\n        )\n      )\n      (branch_5filter): Sequential(\n        (0): ConvBlock(\n          (conv): Conv2d(256, 64, kernel_size=(1, 1), stride=(1, 1))\n          (bn): BatchNorm2d(64, eps=1e-05, momentum=0.1, affine=True, track_running_stats=True)\n        )\n        (1): ConvBlock(\n          (conv): Conv2d(64, 64, kernel_size=(5, 5), stride=(1, 1), padding=(2, 2))\n          (bn): BatchNorm2d(64, eps=1e-05, momentum=0.1, affine=True, track_running_stats=True)\n        )\n      )\n      (branch_maxpool): Sequential(\n        (0): MaxPool2d(kernel_size=3, stride=1, padding=1, dilation=1, ceil_mode=False)\n        (1): ConvBlock(\n          (conv): Conv2d(256, 64, kernel_size=(1, 1), stride=(1, 1))\n          (bn): BatchNorm2d(64, eps=1e-05, momentum=0.1, affine=True, track_running_stats=True)\n        )\n      )\n    )\n    (2): MaxPool2d(kernel_size=3, stride=3, padding=1, dilation=1, ceil_mode=False)\n  )\n  (fc1): Sequential(\n    (0): Linear(in_features=187136, out_features=1, bias=True)\n  )\n)"
     },
     "execution_count": 10,
     "metadata": {},
     "output_type": "execute_result"
    }
   ],
   "source": [
    "from src.neural_network import DeepSymNet\n",
    "\n",
    "DeepSymNet()"
   ],
   "metadata": {
    "collapsed": false,
    "ExecuteTime": {
     "start_time": "2023-05-26T21:51:42.695998Z",
     "end_time": "2023-05-26T21:51:50.365081Z"
    }
   }
  }
 ],
 "metadata": {
  "kernelspec": {
   "display_name": ".venv",
   "language": "python",
   "name": "python3"
  },
  "language_info": {
   "codemirror_mode": {
    "name": "ipython",
    "version": 3
   },
   "file_extension": ".py",
   "mimetype": "text/x-python",
   "name": "python",
   "nbconvert_exporter": "python",
   "pygments_lexer": "ipython3",
   "version": "3.9.2"
  },
  "orig_nbformat": 4
 },
 "nbformat": 4,
 "nbformat_minor": 2
}
